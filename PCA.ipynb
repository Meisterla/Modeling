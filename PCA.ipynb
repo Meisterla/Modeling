{
 "cells": [
  {
   "cell_type": "code",
   "execution_count": 75,
   "id": "1697d27b-0a9c-4a55-a562-6625fe327a36",
   "metadata": {},
   "outputs": [],
   "source": [
    "import pandas as pd\n",
    "import numpy as np\n",
    "import math\n",
    "import warnings\n",
    "import matplotlib.pyplot as plt\n",
    "from sklearn.model_selection import train_test_split\n",
    "from sklearn.preprocessing import StandardScaler\n",
    "from sklearn.model_selection  import cross_val_score\n",
    "from sklearn.model_selection import GridSearchCV\n",
    "from sklearn.decomposition import PCA"
   ]
  },
  {
   "cell_type": "code",
   "execution_count": 82,
   "id": "e9a40b32-9048-4979-9326-f86262b91d5c",
   "metadata": {},
   "outputs": [],
   "source": [
    "warnings.filterwarnings(\"ignore\")"
   ]
  },
  {
   "cell_type": "code",
   "execution_count": 83,
   "id": "c0c26818-8bf0-4ce6-9d88-bbeae6b765ff",
   "metadata": {},
   "outputs": [],
   "source": [
    "pwd = 'D:/gitProject/Modeling/breast-cancer-wisconsin.csv'"
   ]
  },
  {
   "cell_type": "code",
   "execution_count": 84,
   "id": "04287d37-ef6a-40b6-9a3c-a89d2d9e45fa",
   "metadata": {},
   "outputs": [],
   "source": [
    "#读取数据无列名\n",
    "df1 = pd.read_csv(pwd,\n",
    "                  header='infer',\n",
    "                  names=['Sample_code_number',\n",
    "                         'Clump_Thickness',\n",
    "                         'Uniformity_of_Cell_Size',\n",
    "                         'Uniformity_of_Cell_Shape',\n",
    "                         'Marginal_Adhesion',\n",
    "                         'Single_Epithelial_Cell_Size',\n",
    "                         'Bare_Nuclei',\n",
    "                         'Bland_Chromatin',\n",
    "                         'Normal_Nucleoli',\n",
    "                         'Mitoses',\n",
    "                         'Class'])"
   ]
  },
  {
   "cell_type": "code",
   "execution_count": 85,
   "id": "915348f6-51ff-4dff-8cdc-0145e0b7c0af",
   "metadata": {},
   "outputs": [],
   "source": [
    "#异常值剔除\n",
    "df1 = df1[df1['Bare_Nuclei'] != '?']"
   ]
  },
  {
   "cell_type": "code",
   "execution_count": 86,
   "id": "b71b3520-479f-4a7a-8d43-9bf17739b014",
   "metadata": {},
   "outputs": [],
   "source": [
    "df1 = df1.reset_index()[['Sample_code_number',\n",
    "                         'Clump_Thickness',\n",
    "                         'Uniformity_of_Cell_Size',\n",
    "                         'Uniformity_of_Cell_Shape',\n",
    "                         'Marginal_Adhesion',\n",
    "                         'Single_Epithelial_Cell_Size',\n",
    "                         'Bare_Nuclei',\n",
    "                         'Bland_Chromatin',\n",
    "                         'Normal_Nucleoli',\n",
    "                         'Mitoses',\n",
    "                         'Class']]"
   ]
  },
  {
   "cell_type": "code",
   "execution_count": 87,
   "id": "af9fef0b-db05-4879-a6ab-be692f5bc79c",
   "metadata": {},
   "outputs": [],
   "source": [
    "df2 = df1[['Sample_code_number',\n",
    "                         'Clump_Thickness',\n",
    "                         'Uniformity_of_Cell_Size',\n",
    "                         'Uniformity_of_Cell_Shape',\n",
    "                         'Marginal_Adhesion',\n",
    "                         'Single_Epithelial_Cell_Size',\n",
    "                         'Bare_Nuclei',\n",
    "                         'Bland_Chromatin',\n",
    "                         'Normal_Nucleoli',\n",
    "                         'Mitoses']]"
   ]
  },
  {
   "cell_type": "code",
   "execution_count": 88,
   "id": "a3e619b1-eae0-4836-99e0-26c90ba9bc88",
   "metadata": {},
   "outputs": [],
   "source": [
    "df3 = df1[['Class']]"
   ]
  },
  {
   "cell_type": "code",
   "execution_count": 89,
   "id": "76d4e11d-8765-4dfe-bb51-6e7259922003",
   "metadata": {},
   "outputs": [],
   "source": [
    "pca = PCA(n_components=2)"
   ]
  },
  {
   "cell_type": "code",
   "execution_count": 90,
   "id": "27469645-c6d0-495a-ac15-fa8f5fd68752",
   "metadata": {},
   "outputs": [],
   "source": [
    "df2_2 = pca.fit_transform(df2)     #把原数据df2传入方法，返回降维后的数据，等价于pca.fit(X) pca.transform(X)\n",
    "#invX = pca.inverse_transform(newX)  #将降维后的数据转换成原始数据"
   ]
  },
  {
   "cell_type": "code",
   "execution_count": 91,
   "id": "a0d97d6f-06be-4ffb-87a3-e698110ef406",
   "metadata": {},
   "outputs": [],
   "source": [
    "df2_2 = pd.DataFrame(df2_2)"
   ]
  },
  {
   "cell_type": "code",
   "execution_count": 92,
   "id": "be47b452-c1ea-4b7c-a8be-6f2f56850938",
   "metadata": {},
   "outputs": [],
   "source": [
    "df4 = pd.merge(df2_2, df3, left_index=True, right_index=True)"
   ]
  },
  {
   "cell_type": "code",
   "execution_count": 94,
   "id": "3ce81291-8c14-4100-9c54-b8b8ab2b1705",
   "metadata": {},
   "outputs": [
    {
     "data": {
      "text/html": [
       "<div>\n",
       "<style scoped>\n",
       "    .dataframe tbody tr th:only-of-type {\n",
       "        vertical-align: middle;\n",
       "    }\n",
       "\n",
       "    .dataframe tbody tr th {\n",
       "        vertical-align: top;\n",
       "    }\n",
       "\n",
       "    .dataframe thead th {\n",
       "        text-align: right;\n",
       "    }\n",
       "</style>\n",
       "<table border=\"1\" class=\"dataframe\">\n",
       "  <thead>\n",
       "    <tr style=\"text-align: right;\">\n",
       "      <th></th>\n",
       "      <th>0</th>\n",
       "      <th>1</th>\n",
       "      <th>Class</th>\n",
       "    </tr>\n",
       "  </thead>\n",
       "  <tbody>\n",
       "    <tr>\n",
       "      <th>0</th>\n",
       "      <td>-76695.226936</td>\n",
       "      <td>-4.544864</td>\n",
       "      <td>2</td>\n",
       "    </tr>\n",
       "    <tr>\n",
       "      <th>1</th>\n",
       "      <td>-73775.226945</td>\n",
       "      <td>4.750226</td>\n",
       "      <td>2</td>\n",
       "    </tr>\n",
       "    <tr>\n",
       "      <th>2</th>\n",
       "      <td>-61295.226936</td>\n",
       "      <td>-4.684520</td>\n",
       "      <td>2</td>\n",
       "    </tr>\n",
       "    <tr>\n",
       "      <th>3</th>\n",
       "      <td>-60443.226943</td>\n",
       "      <td>5.056373</td>\n",
       "      <td>2</td>\n",
       "    </tr>\n",
       "    <tr>\n",
       "      <th>4</th>\n",
       "      <td>-59697.226937</td>\n",
       "      <td>-4.165903</td>\n",
       "      <td>2</td>\n",
       "    </tr>\n",
       "    <tr>\n",
       "      <th>...</th>\n",
       "      <td>...</td>\n",
       "      <td>...</td>\n",
       "      <td>...</td>\n",
       "    </tr>\n",
       "    <tr>\n",
       "      <th>678</th>\n",
       "      <td>-300005.226936</td>\n",
       "      <td>-5.214080</td>\n",
       "      <td>2</td>\n",
       "    </tr>\n",
       "    <tr>\n",
       "      <th>679</th>\n",
       "      <td>-234951.226935</td>\n",
       "      <td>-6.148468</td>\n",
       "      <td>2</td>\n",
       "    </tr>\n",
       "    <tr>\n",
       "      <th>680</th>\n",
       "      <td>-187900.226946</td>\n",
       "      <td>10.122156</td>\n",
       "      <td>4</td>\n",
       "    </tr>\n",
       "    <tr>\n",
       "      <th>681</th>\n",
       "      <td>-179249.226944</td>\n",
       "      <td>6.260631</td>\n",
       "      <td>4</td>\n",
       "    </tr>\n",
       "    <tr>\n",
       "      <th>682</th>\n",
       "      <td>-179249.226945</td>\n",
       "      <td>7.359937</td>\n",
       "      <td>4</td>\n",
       "    </tr>\n",
       "  </tbody>\n",
       "</table>\n",
       "<p>683 rows × 3 columns</p>\n",
       "</div>"
      ],
      "text/plain": [
       "                 0          1  Class\n",
       "0    -76695.226936  -4.544864      2\n",
       "1    -73775.226945   4.750226      2\n",
       "2    -61295.226936  -4.684520      2\n",
       "3    -60443.226943   5.056373      2\n",
       "4    -59697.226937  -4.165903      2\n",
       "..             ...        ...    ...\n",
       "678 -300005.226936  -5.214080      2\n",
       "679 -234951.226935  -6.148468      2\n",
       "680 -187900.226946  10.122156      4\n",
       "681 -179249.226944   6.260631      4\n",
       "682 -179249.226945   7.359937      4\n",
       "\n",
       "[683 rows x 3 columns]"
      ]
     },
     "execution_count": 94,
     "metadata": {},
     "output_type": "execute_result"
    }
   ],
   "source": [
    "df4"
   ]
  },
  {
   "cell_type": "code",
   "execution_count": null,
   "id": "c9bcf7bf-3f93-4efc-ab20-b23d4e4fd8f2",
   "metadata": {},
   "outputs": [],
   "source": []
  }
 ],
 "metadata": {
  "kernelspec": {
   "display_name": "Python 3",
   "language": "python",
   "name": "python3"
  },
  "language_info": {
   "codemirror_mode": {
    "name": "ipython",
    "version": 3
   },
   "file_extension": ".py",
   "mimetype": "text/x-python",
   "name": "python",
   "nbconvert_exporter": "python",
   "pygments_lexer": "ipython3",
   "version": "3.8.8"
  }
 },
 "nbformat": 4,
 "nbformat_minor": 5
}
