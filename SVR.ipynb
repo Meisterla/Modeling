{
 "cells": [
  {
   "cell_type": "code",
   "execution_count": 20,
   "id": "25fcbf90-0ec8-4bdc-a32b-cff6cfb14432",
   "metadata": {},
   "outputs": [],
   "source": [
    "import pandas as pd\n",
    "import numpy as np\n",
    "import math\n",
    "import warnings\n",
    "import matplotlib.pyplot as plt\n",
    "from sklearn.model_selection import train_test_split\n",
    "from sklearn.preprocessing import StandardScaler\n",
    "from sklearn.model_selection  import cross_val_score\n",
    "from sklearn.model_selection import GridSearchCV\n",
    "from sklearn.datasets import load_boston\n",
    "from sklearn.svm import SVR"
   ]
  },
  {
   "cell_type": "code",
   "execution_count": 21,
   "id": "7ce7417b-2684-4902-b3a5-e1abb8fe89f6",
   "metadata": {},
   "outputs": [],
   "source": [
    "warnings.filterwarnings(\"ignore\")"
   ]
  },
  {
   "cell_type": "code",
   "execution_count": 22,
   "id": "089f3d83-51fb-40be-89ea-b62ad10a3ff0",
   "metadata": {},
   "outputs": [],
   "source": [
    "housing_boston = load_boston()\n",
    "X = housing_boston.data     # data\n",
    "y = housing_boston.target   # label\n",
    "feature_names = housing_boston.feature_names  #feature_names"
   ]
  },
  {
   "cell_type": "code",
   "execution_count": 23,
   "id": "9a7929f1-e63c-4cc5-b88d-9aeccfb9e40d",
   "metadata": {},
   "outputs": [],
   "source": [
    "X = pd.DataFrame(X)"
   ]
  },
  {
   "cell_type": "code",
   "execution_count": 24,
   "id": "3f0ecc7b-e617-401c-a103-205c78ca9736",
   "metadata": {},
   "outputs": [],
   "source": [
    "X.columns = feature_names"
   ]
  },
  {
   "cell_type": "code",
   "execution_count": 25,
   "id": "85ff2094-4a5e-4cea-a9fe-c7bd22b1e132",
   "metadata": {},
   "outputs": [],
   "source": [
    "#划分训练集测试集\n",
    "X_train, X_test, y_train, y_test = train_test_split(X, y, test_size=0.2, random_state=2795)"
   ]
  },
  {
   "cell_type": "code",
   "execution_count": 26,
   "id": "e64710c4-d2ad-4a71-b9a3-f87ea0efa78d",
   "metadata": {},
   "outputs": [],
   "source": [
    "# 对数据进行归一化处理\n",
    "standarScaler = StandardScaler()\n",
    "standarScaler.fit(X_train)\n",
    "X_train_std = standarScaler.transform(X_train)\n",
    "X_test_std = standarScaler.transform(X_test)"
   ]
  },
  {
   "cell_type": "code",
   "execution_count": 43,
   "id": "95331be2-9ea1-48d0-b698-00fc554ceb83",
   "metadata": {},
   "outputs": [],
   "source": [
    "param_grid = {\n",
    "    'kernel': ['linear', 'poly', 'rbf', 'sigmoid'],\n",
    "    'C': np.arange(1.0, 3.0, 1.0), \n",
    "    'gamma': np.arange(0.2, 1, 0.2),\n",
    "    'degree': range(1, 2, 1),\n",
    "    'coef0': np.arange(0, 1, 0.2),\n",
    "}"
   ]
  },
  {
   "cell_type": "code",
   "execution_count": 44,
   "id": "becf9921-bb30-41ee-a92d-f89e730272ce",
   "metadata": {},
   "outputs": [
    {
     "data": {
      "text/plain": [
       "GridSearchCV(cv=10, estimator=SVR(),\n",
       "             param_grid={'C': array([1., 2.]),\n",
       "                         'coef0': array([0. , 0.2, 0.4, 0.6, 0.8]),\n",
       "                         'degree': range(1, 2),\n",
       "                         'gamma': array([0.2, 0.4, 0.6, 0.8]),\n",
       "                         'kernel': ['linear', 'poly', 'rbf', 'sigmoid']})"
      ]
     },
     "execution_count": 44,
     "metadata": {},
     "output_type": "execute_result"
    }
   ],
   "source": [
    "svr = SVR()\n",
    "grid_search = GridSearchCV(svr, param_grid, cv=10)\n",
    "grid_search.fit(X_train_std, y_train)"
   ]
  },
  {
   "cell_type": "code",
   "execution_count": 45,
   "id": "cdab71e2-57ac-45c8-8743-942b3ad1546f",
   "metadata": {},
   "outputs": [
    {
     "data": {
      "text/plain": [
       "SVR(C=2.0, degree=1, gamma=0.2, kernel='linear')"
      ]
     },
     "execution_count": 45,
     "metadata": {},
     "output_type": "execute_result"
    }
   ],
   "source": [
    "#最佳预估器\n",
    "best_estimator = grid_search.best_estimator_\n",
    "best_estimator"
   ]
  },
  {
   "cell_type": "code",
   "execution_count": 46,
   "id": "d46f2758-7f47-438b-bf2b-9e7c1f77f989",
   "metadata": {},
   "outputs": [
    {
     "data": {
      "text/plain": [
       "0.7086192963105753"
      ]
     },
     "execution_count": 46,
     "metadata": {},
     "output_type": "execute_result"
    }
   ],
   "source": [
    "##训练集最佳结果\n",
    "best_score = grid_search.best_score_\n",
    "best_score"
   ]
  },
  {
   "cell_type": "code",
   "execution_count": 47,
   "id": "4c7fc947-66d9-4139-a7ff-9087ab69c19f",
   "metadata": {},
   "outputs": [
    {
     "data": {
      "text/plain": [
       "array([17.40674532, 26.71244429, 16.17764328, 28.29468313, 24.00550736,\n",
       "       22.10573314, 11.58117183, 19.0694913 , 21.59281936, 21.29207458,\n",
       "       18.41511877, 22.43595705, 12.02808072, 25.2787036 , 23.52934571,\n",
       "       16.24775003, 27.8612365 , 16.30834578, 16.25326283, 22.88016243,\n",
       "       32.62535216, 23.70924737, 27.13859855, 25.06284349, 21.87805904,\n",
       "       21.22242157, 18.08562085, 32.91982066, 16.51762196, 18.64583236,\n",
       "       28.14851961, 23.44586118,  4.32103126, 12.84353459, 18.45507275,\n",
       "       17.51140517,  5.02147914, 19.33005832, 17.11751966, 24.65158036,\n",
       "       27.177798  , 17.13810938, 19.12124905, 21.74263939, 25.34660184,\n",
       "       17.85395076, 12.2673794 , 22.34451061, 24.43048336, -0.91242647,\n",
       "       23.37149319, 17.58598456, 20.1884465 , 26.75016058, 25.91094656,\n",
       "       19.51087891, 15.51614864, 17.95345395, 27.58613914, 17.50099492,\n",
       "       17.91372131, 32.94359548, 13.66909621, 37.56170275, 10.79298912,\n",
       "       18.85216518, 13.99639142, 18.99043679, 12.73427389,  3.54376395,\n",
       "       19.29435802, 36.05062382, 28.23229319, 19.30821086, 32.55655768,\n",
       "       33.30343208, 12.4171205 , 27.76568373, 23.10535861, 22.14348509,\n",
       "       17.56955054,  7.9606459 , 25.5085561 , 18.821779  , 34.00036994,\n",
       "       21.80077306, 29.06263594, 19.59346275, 20.43685295, 22.19186489,\n",
       "       20.8244854 , 25.68348534, 36.29597928, 43.26796595, 17.55625822,\n",
       "       10.16854823, 21.70802062, 19.79047693, 27.94594047, 23.42995443,\n",
       "        1.17779042, 21.74745826])"
      ]
     },
     "execution_count": 47,
     "metadata": {},
     "output_type": "execute_result"
    }
   ],
   "source": [
    "#预测\n",
    "y_predict=grid_search.predict(X_test_std)\n",
    "y_predict"
   ]
  },
  {
   "cell_type": "code",
   "execution_count": 48,
   "id": "c84756d5-f9c9-46de-8066-75d318a87e83",
   "metadata": {},
   "outputs": [
    {
     "data": {
      "text/plain": [
       "0.5676381470221332"
      ]
     },
     "execution_count": 48,
     "metadata": {},
     "output_type": "execute_result"
    }
   ],
   "source": [
    "#测试集准确率\n",
    "score = best_estimator.score(X_test_std, y_test)\n",
    "score"
   ]
  },
  {
   "cell_type": "code",
   "execution_count": null,
   "id": "5c18934c-ae75-4c68-a1c7-382efb57c06b",
   "metadata": {},
   "outputs": [],
   "source": []
  }
 ],
 "metadata": {
  "kernelspec": {
   "display_name": "Python 3",
   "language": "python",
   "name": "python3"
  },
  "language_info": {
   "codemirror_mode": {
    "name": "ipython",
    "version": 3
   },
   "file_extension": ".py",
   "mimetype": "text/x-python",
   "name": "python",
   "nbconvert_exporter": "python",
   "pygments_lexer": "ipython3",
   "version": "3.8.8"
  }
 },
 "nbformat": 4,
 "nbformat_minor": 5
}
