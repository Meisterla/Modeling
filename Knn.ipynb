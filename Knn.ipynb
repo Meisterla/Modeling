{
 "cells": [
  {
   "cell_type": "code",
   "execution_count": 1,
   "id": "5b3407aa-b69d-4c80-b047-8021b28f4e65",
   "metadata": {},
   "outputs": [],
   "source": [
    "import pandas as pd\n",
    "import numpy as np\n",
    "import matplotlib.pyplot as plt\n",
    "from sklearn.model_selection import train_test_split\n",
    "from sklearn.preprocessing import StandardScaler\n",
    "from sklearn.neighbors import KNeighborsClassifier\n",
    "from sklearn.model_selection  import cross_val_score\n",
    "from sklearn import datasets"
   ]
  },
  {
   "cell_type": "code",
   "execution_count": 2,
   "id": "d1a7a1c1-c0b0-48ae-9b2d-e4c62fad28b3",
   "metadata": {},
   "outputs": [],
   "source": [
    "#读取数据无列名\n",
    "df1 = pd.read_csv('D:/file/course4DMA/coursework/course_project/breast-cancer-wisconsin.csv',\n",
    "                 header='infer',\n",
    "                 names=['Sample_code_number',\n",
    "                    'Clump_Thickness',\n",
    "                    'Uniformity_of_Cell_Size',\n",
    "                    'Uniformity_of_Cell_Shape',\n",
    "                    'Marginal_Adhesion',\n",
    "                    'Single_Epithelial_Cell_Size',\n",
    "                    'Bare_Nuclei',\n",
    "                    'Bland_Chromatin',\n",
    "                    'Normal_Nucleoli',\n",
    "                    'Mitoses',\n",
    "                    'Class'])"
   ]
  },
  {
   "cell_type": "code",
   "execution_count": 3,
   "id": "4057aed1-2954-4b7a-ae23-c43123c5a0bb",
   "metadata": {},
   "outputs": [],
   "source": [
    "#异常值剔除\n",
    "df1 = df1[df1['Bare_Nuclei'] != '?']"
   ]
  },
  {
   "cell_type": "code",
   "execution_count": 4,
   "id": "56977fd4-0ced-47d0-8a10-61d97ebc61f2",
   "metadata": {},
   "outputs": [],
   "source": [
    "#划分训练集测试集\n",
    "X_train, X_test, y_train, y_test = train_test_split(df1[['Clump_Thickness',\n",
    "        'Uniformity_of_Cell_Size',\n",
    "        'Uniformity_of_Cell_Shape',\n",
    "        'Marginal_Adhesion',\n",
    "        'Single_Epithelial_Cell_Size',\n",
    "        'Bare_Nuclei',\n",
    "        'Bland_Chromatin',\n",
    "        'Normal_Nucleoli',\n",
    "        'Mitoses']], df1['Class'], test_size=0.2)"
   ]
  },
  {
   "cell_type": "code",
   "execution_count": 5,
   "id": "2b95c1b5-5707-4209-b860-535218f09e93",
   "metadata": {},
   "outputs": [
    {
     "data": {
      "image/png": "[encoded data removed]",
      "text/plain": [
       "<Figure size 432x288 with 1 Axes>"
      ]
     },
     "metadata": {
      "needs_background": "light"
     },
     "output_type": "display_data"
    }
   ],
   "source": [
    "x = df1[['Clump_Thickness',\n",
    "        'Uniformity_of_Cell_Size',\n",
    "        'Uniformity_of_Cell_Shape',\n",
    "        'Marginal_Adhesion',\n",
    "        'Single_Epithelial_Cell_Size',\n",
    "        'Bare_Nuclei',\n",
    "        'Bland_Chromatin',\n",
    "        'Normal_Nucleoli',\n",
    "        'Mitoses']]\n",
    "y = df1['Class']\n",
    "k_range = range(1, 31)\n",
    "k_error = []\n",
    "#循环，取k=1到k=31，查看误差效果\n",
    "for k in k_range:\n",
    "    knn = KNeighborsClassifier(n_neighbors=k)\n",
    "    #cv参数决定数据集划分比例，这里是按照4:1划分训练集和测试集\n",
    "    scores = cross_val_score(knn, x, y, cv=5, scoring='accuracy')\n",
    "    k_error.append(1 - scores.mean())\n",
    "#画图，x轴为k值，y值为误差值\n",
    "plt.plot(k_range, k_error)\n",
    "plt.xlabel('Value of K for KNN')\n",
    "plt.ylabel('Error')\n",
    "plt.show()"
   ]
  },
  {
   "cell_type": "code",
   "execution_count": 6,
   "id": "903c34ce-a818-47c5-be6f-deed2bb8bb99",
   "metadata": {},
   "outputs": [],
   "source": [
    "# 对数据进行归一化处理\n",
    "standarScaler = StandardScaler()\n",
    "standarScaler.fit(X_train)\n",
    "X_train_std = standarScaler.transform(X_train)\n",
    "X_test_std = standarScaler.transform(X_test)"
   ]
  },
  {
   "cell_type": "code",
   "execution_count": 7,
   "id": "6ee9b9f5-66da-4b38-a2a5-a73aee2c6d68",
   "metadata": {},
   "outputs": [],
   "source": [
    "#模型训练\n",
    "knn_clf = KNeighborsClassifier(n_neighbors=5)\n",
    "knn_clf.fit(X_train_std,y_train)\n",
    "score = knn_clf.score(X_test_std, y_test)"
   ]
  },
  {
   "cell_type": "code",
   "execution_count": 8,
   "id": "0294bd3e-fad2-414e-8eaf-b1fa7a73b4c9",
   "metadata": {},
   "outputs": [
    {
     "data": {
      "text/plain": [
       "0.9708029197080292"
      ]
     },
     "execution_count": 8,
     "metadata": {},
     "output_type": "execute_result"
    }
   ],
   "source": [
    "score"
   ]
  },
  {
   "cell_type": "code",
   "execution_count": null,
   "id": "997a047e-345a-4b20-bd0c-de726106d04c",
   "metadata": {},
   "outputs": [],
   "source": []
  },
  {
   "cell_type": "code",
   "execution_count": null,
   "id": "372b5245-c054-4e1b-8010-a1521b3775ab",
   "metadata": {},
   "outputs": [],
   "source": []
  }
 ],
 "metadata": {
  "kernelspec": {
   "display_name": "Python 3",
   "language": "python",
   "name": "python3"
  },
  "language_info": {
   "codemirror_mode": {
    "name": "ipython",
    "version": 3
   },
   "file_extension": ".py",
   "mimetype": "text/x-python",
   "name": "python",
   "nbconvert_exporter": "python",
   "pygments_lexer": "ipython3",
   "version": "3.8.8"
  }
 },
 "nbformat": 4,
 "nbformat_minor": 5
}
