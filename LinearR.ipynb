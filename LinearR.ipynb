{
 "cells": [
  {
   "cell_type": "code",
   "execution_count": 1,
   "id": "4c603c74-63f9-47d2-bfc3-95e0032dc08c",
   "metadata": {},
   "outputs": [],
   "source": [
    "import pandas as pd\n",
    "import numpy as np\n",
    "import math\n",
    "import warnings\n",
    "import matplotlib.pyplot as plt\n",
    "from sklearn.model_selection import train_test_split\n",
    "from sklearn.preprocessing import StandardScaler\n",
    "from sklearn.model_selection  import cross_val_score\n",
    "from sklearn.model_selection import GridSearchCV\n",
    "from sklearn.datasets import load_boston\n",
    "from sklearn.linear_model import LinearRegression"
   ]
  },
  {
   "cell_type": "code",
   "execution_count": 2,
   "id": "1d7e068f-92d2-4230-8a2c-87f4fa1f2ed2",
   "metadata": {},
   "outputs": [],
   "source": [
    "warnings.filterwarnings(\"ignore\")"
   ]
  },
  {
   "cell_type": "code",
   "execution_count": 3,
   "id": "052bdd66-d1c1-4296-bbc8-6fe3d215c896",
   "metadata": {},
   "outputs": [],
   "source": [
    "housing_boston = load_boston()\n",
    "X = housing_boston.data     # data\n",
    "y = housing_boston.target   # label\n",
    "feature_names = housing_boston.feature_names  #feature_names"
   ]
  },
  {
   "cell_type": "code",
   "execution_count": 4,
   "id": "530e031b-7087-46ee-a59b-61ae4c594bf4",
   "metadata": {},
   "outputs": [],
   "source": [
    "X = pd.DataFrame(X)"
   ]
  },
  {
   "cell_type": "code",
   "execution_count": 5,
   "id": "7fd3d486-63c0-40b5-a990-9ef98e1146b1",
   "metadata": {},
   "outputs": [],
   "source": [
    "X.columns = feature_names"
   ]
  },
  {
   "cell_type": "code",
   "execution_count": 25,
   "id": "f09a268f-b93e-4053-867b-460f5584a675",
   "metadata": {},
   "outputs": [],
   "source": [
    "#划分训练集测试集\n",
    "X_train, X_test, y_train, y_test = train_test_split(X, y, test_size=0.2, random_state=2795)"
   ]
  },
  {
   "cell_type": "code",
   "execution_count": 26,
   "id": "97015d91-f36e-4208-8a22-01c6b714399f",
   "metadata": {},
   "outputs": [],
   "source": [
    "# 对数据进行归一化处理\n",
    "standarScaler_X = StandardScaler()\n",
    "standarScaler_X.fit(X_train)\n",
    "X_train_std = standarScaler_X.transform(X_train)\n",
    "X_test_std = standarScaler_X.transform(X_test)"
   ]
  },
  {
   "cell_type": "code",
   "execution_count": 27,
   "id": "19e0d064-17cb-4ef5-b77c-d59aa69ac7dd",
   "metadata": {},
   "outputs": [],
   "source": [
    "# 目标值进行标准化\n",
    "standarScaler_y = StandardScaler()\n",
    "standarScaler_y.fit(y_train.reshape(-1,1))\n",
    "y_train_std = standarScaler_y.transform(y_train.reshape(-1,1))\n",
    "y_test_std = standarScaler_y.transform(y_test.reshape(-1,1))"
   ]
  },
  {
   "cell_type": "code",
   "execution_count": 28,
   "id": "557a8441-35f2-422c-93d3-1b119159157f",
   "metadata": {},
   "outputs": [
    {
     "data": {
      "text/plain": [
       "LinearRegression()"
      ]
     },
     "execution_count": 28,
     "metadata": {},
     "output_type": "execute_result"
    }
   ],
   "source": [
    "lr = LinearRegression()\n",
    "lr.fit(X_train_std, y_train_std)"
   ]
  },
  {
   "cell_type": "code",
   "execution_count": 29,
   "id": "a4842984-76c7-4869-9260-7b3310419cef",
   "metadata": {},
   "outputs": [
    {
     "data": {
      "text/plain": [
       "array([[-8.93993261e-02,  1.12886057e-01,  4.70878375e-02,\n",
       "         4.37548022e-02, -2.25657263e-01,  3.21344637e-01,\n",
       "        -3.50089035e-04, -3.07199003e-01,  2.69203047e-01,\n",
       "        -2.23859300e-01, -2.21548361e-01,  9.42209510e-02,\n",
       "        -4.02969163e-01]])"
      ]
     },
     "execution_count": 29,
     "metadata": {},
     "output_type": "execute_result"
    }
   ],
   "source": [
    "#回归系数\n",
    "lr.coef_"
   ]
  },
  {
   "cell_type": "code",
   "execution_count": 30,
   "id": "b1baf42e-4de4-4e0e-99dc-4038557c48f5",
   "metadata": {},
   "outputs": [
    {
     "data": {
      "text/plain": [
       "array([[18.27743986],\n",
       "       [28.84384186],\n",
       "       [18.07363831],\n",
       "       [31.77445177],\n",
       "       [25.42337993],\n",
       "       [21.81407842],\n",
       "       [ 9.51564464],\n",
       "       [19.35460157],\n",
       "       [23.64869701],\n",
       "       [23.2086198 ],\n",
       "       [20.01958884],\n",
       "       [23.82383441],\n",
       "       [11.40094493],\n",
       "       [26.45564187],\n",
       "       [26.09241195],\n",
       "       [16.53605132],\n",
       "       [31.57845481],\n",
       "       [16.96151428],\n",
       "       [16.20445571],\n",
       "       [24.54430894],\n",
       "       [33.06436755],\n",
       "       [24.37522386],\n",
       "       [27.29564978],\n",
       "       [24.62611645],\n",
       "       [22.16190787],\n",
       "       [24.59725765],\n",
       "       [18.8702199 ],\n",
       "       [33.34543444],\n",
       "       [15.46720169],\n",
       "       [18.90204489],\n",
       "       [29.26066366],\n",
       "       [23.97146264],\n",
       "       [ 8.36936357],\n",
       "       [13.23792452],\n",
       "       [18.64113956],\n",
       "       [17.40475053],\n",
       "       [ 5.2605087 ],\n",
       "       [19.21510804],\n",
       "       [17.29078936],\n",
       "       [24.27874241],\n",
       "       [27.87871367],\n",
       "       [17.91939954],\n",
       "       [21.45883109],\n",
       "       [23.52418401],\n",
       "       [29.13227978],\n",
       "       [18.33057634],\n",
       "       [14.89563816],\n",
       "       [23.32364146],\n",
       "       [25.56644943],\n",
       "       [ 0.97567938],\n",
       "       [25.09718049],\n",
       "       [18.83494998],\n",
       "       [20.07331985],\n",
       "       [28.00429438],\n",
       "       [25.69282865],\n",
       "       [22.21194707],\n",
       "       [16.99288363],\n",
       "       [18.65956161],\n",
       "       [29.39624418],\n",
       "       [17.68905394],\n",
       "       [19.35917194],\n",
       "       [34.58701906],\n",
       "       [16.03426933],\n",
       "       [37.61591705],\n",
       "       [14.02941259],\n",
       "       [20.19738735],\n",
       "       [14.10428151],\n",
       "       [20.22340363],\n",
       "       [11.58004403],\n",
       "       [ 9.64890114],\n",
       "       [20.2010131 ],\n",
       "       [35.93039713],\n",
       "       [28.39506347],\n",
       "       [21.9090841 ],\n",
       "       [33.40212185],\n",
       "       [35.38859982],\n",
       "       [12.17772224],\n",
       "       [27.90012168],\n",
       "       [24.53330087],\n",
       "       [21.9642259 ],\n",
       "       [17.66359839],\n",
       "       [14.9949411 ],\n",
       "       [24.6423299 ],\n",
       "       [19.28902476],\n",
       "       [34.9803454 ],\n",
       "       [23.23318873],\n",
       "       [28.87411505],\n",
       "       [20.61007106],\n",
       "       [20.91825856],\n",
       "       [23.08694579],\n",
       "       [21.21522895],\n",
       "       [26.67776784],\n",
       "       [38.13913763],\n",
       "       [43.85289079],\n",
       "       [16.83082384],\n",
       "       [ 8.22287786],\n",
       "       [22.47000913],\n",
       "       [20.33825616],\n",
       "       [28.64679091],\n",
       "       [24.3159074 ],\n",
       "       [ 2.54675661],\n",
       "       [22.01263116]])"
      ]
     },
     "execution_count": 30,
     "metadata": {},
     "output_type": "execute_result"
    }
   ],
   "source": [
    "# 预测\n",
    "y_predict = standarScaler_y.inverse_transform(lr.predict(X_test_std))#预测出来后需要逆标准化将数据转化回原数值\n",
    "y_predict"
   ]
  },
  {
   "cell_type": "code",
   "execution_count": 24,
   "id": "bc366368-5cd6-4a1d-bd50-585bea8d60fc",
   "metadata": {},
   "outputs": [
    {
     "data": {
      "text/plain": [
       "array([18.2, 22.8, 14.5, 27. , 19.4, 20.7, 17.8, 12.5, 23. , 19.4, 27.5,\n",
       "       20.1, 12.7, 22. , 22.6, 13.4, 50. , 19.5, 17.4, 21.4, 30.3, 22.2,\n",
       "       24.8, 24.4, 20.6, 50. , 16.8, 36.4, 18.9, 19.9, 22.5, 24.4,  5. ,\n",
       "       13.9, 16.1, 17.1,  7.4, 16.4, 13. , 22.6, 23.9, 18.7, 16.1, 20.3,\n",
       "       24.3, 12.1, 21.9, 21.2, 23.3, 17.9, 24. , 14.1, 17.1, 23.9, 23.1,\n",
       "       26.4, 15.1, 10.9, 25. , 14.9, 18.5, 35.4, 10.2, 42.3, 10.9, 13.8,\n",
       "       11. , 18.3, 16.5, 23.1, 20.5, 46.7, 36.2, 21.4, 36.1, 35.1, 15.2,\n",
       "       24.5, 29.6, 20.9, 17.8, 15. , 26.2, 18.5, 33.2, 20. , 31.2, 20.4,\n",
       "       20.9, 22.9, 19. , 22.8, 37.6, 50. , 17.5, 14.6, 21.2, 16.8, 23.7,\n",
       "       21.4,  8.8, 21.7])"
      ]
     },
     "execution_count": 24,
     "metadata": {},
     "output_type": "execute_result"
    }
   ],
   "source": [
    "y_test"
   ]
  },
  {
   "cell_type": "code",
   "execution_count": null,
   "id": "1b437c19-4b14-4c47-a7fe-0fbc5b0a6e15",
   "metadata": {},
   "outputs": [],
   "source": []
  }
 ],
 "metadata": {
  "kernelspec": {
   "display_name": "Python 3",
   "language": "python",
   "name": "python3"
  },
  "language_info": {
   "codemirror_mode": {
    "name": "ipython",
    "version": 3
   },
   "file_extension": ".py",
   "mimetype": "text/x-python",
   "name": "python",
   "nbconvert_exporter": "python",
   "pygments_lexer": "ipython3",
   "version": "3.8.8"
  }
 },
 "nbformat": 4,
 "nbformat_minor": 5
}
